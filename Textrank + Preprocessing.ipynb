{
 "cells": [
  {
   "cell_type": "code",
   "execution_count": 1,
   "metadata": {},
   "outputs": [],
   "source": [
    "import re\n",
    "from pprint import pprint\n",
    "import string \n",
    "\n",
    "import numpy as np\n",
    "import nltk\n",
    "from nltk import sent_tokenize, word_tokenize\n",
    "\n",
    "from nltk.cluster.util import cosine_distance\n",
    "from nltk.corpus import stopwords\n",
    "\n",
    "from bs4 import BeautifulSoup\n",
    "import pandas as pd\n",
    "import requests\n",
    "\n",
    "from Sastrawi.Stemmer.StemmerFactory import StemmerFactory\n"
   ]
  },
  {
   "cell_type": "code",
   "execution_count": 2,
   "metadata": {},
   "outputs": [],
   "source": [
    "def scrap_data(url: str) -> tuple:\n",
    "    site = requests.get(url)\n",
    "    soup = BeautifulSoup(site.text, 'html.parser')\n",
    "    \n",
    "    sentences = []\n",
    "    \n",
    "    text_element = soup.find_all('div', {'class' : 'content'})\n",
    "    \n",
    "    for sentence in text_element:\n",
    "        sentences.append(sentence.text)\n",
    "#     coba stopword disini nanti\n",
    "    return sentences"
   ]
  },
  {
   "cell_type": "code",
   "execution_count": 3,
   "metadata": {},
   "outputs": [],
   "source": [
    "class GetMatrix:\n",
    "    \n",
    "    def get_symmetric_matrix(matrix):\n",
    "        \"\"\"\n",
    "        Get Symmetric matrix\n",
    "        :param matrix:\n",
    "        :return: matrix\n",
    "        \"\"\"\n",
    "        return matrix + matrix.T - np.diag(matrix.diagonal())\n",
    "\n",
    "    def core_cosine_similarity(vector1, vector2):\n",
    "        \"\"\"\n",
    "        measure cosine similarity between two vectors\n",
    "        :param vector1:\n",
    "        :param vector2:\n",
    "        :return: 0 < cosine similarity value < 1\n",
    "        \"\"\"\n",
    "        return 1 - cosine_distance(vector1, vector2)"
   ]
  },
  {
   "cell_type": "code",
   "execution_count": 4,
   "metadata": {},
   "outputs": [],
   "source": [
    "MULTIPLE_WHITESPACE_PATTERN = re.compile(r\"\\s+\", re.UNICODE)\n",
    "\n",
    "def normalize_whitespace(text):\n",
    "    return MULTIPLE_WHITESPACE_PATTERN.sub(_replace_whitespace, text)\n",
    "\n",
    "def _replace_whitespace(match):\n",
    "    text = match.group()\n",
    "    if \"\\n\" in text or \"\\r\" in text or \"\\\\n\" in text:\n",
    "        return \"\\n\"\n",
    "    else:\n",
    "        return \" \"\n",
    "\n",
    "def is_blank(string):\n",
    "    return not string or string.isspace()"
   ]
  },
  {
   "cell_type": "code",
   "execution_count": 5,
   "metadata": {},
   "outputs": [],
   "source": [
    "class TextRank4Sentences():\n",
    "    def __init__(self):\n",
    "        self.damping = 0.85  # damping coefficient, usually is .85\n",
    "        self.min_diff = 1e-5  # convergence threshold\n",
    "        self.steps = 100  # iteration steps\n",
    "        self.text_str = None\n",
    "        self.sentences = None\n",
    "        self.pr_vector = None\n",
    "\n",
    "    def _sentence_similarity(self, sent1, sent2, stop_words=None):\n",
    "#         if stopwords is None:\n",
    "#             stopwords = []\n",
    "        \n",
    "        stoplist = []\n",
    "        stoplist = set(stopwords.words('indonesian'))\n",
    "        sent1 = [w.lower() for w in sent1]\n",
    "        sent2 = [w.lower() for w in sent2]\n",
    "\n",
    "        all_words = list(set(sent1 + sent2))\n",
    "\n",
    "        vector1 = [0] * len(all_words)\n",
    "        vector2 = [0] * len(all_words)\n",
    "\n",
    "        # build the vector for the first sentence\n",
    "        for w in sent1:\n",
    "            if w in stoplist:\n",
    "                continue\n",
    "            vector1[all_words.index(w)] += 1\n",
    "\n",
    "        # build the vector for the second sentence\n",
    "        for w in sent2:\n",
    "            if w in stoplist:\n",
    "                continue\n",
    "            vector2[all_words.index(w)] += 1\n",
    "\n",
    "        return GetMatrix.core_cosine_similarity(vector1, vector2)\n",
    "\n",
    "    def _build_similarity_matrix(self, sentences, stop_words=None):\n",
    "        # create an empty similarity matrix\n",
    "        sm = np.zeros([len(sentences), len(sentences)])\n",
    "\n",
    "        for idx1 in range(len(sentences)):\n",
    "            for idx2 in range(len(sentences)):\n",
    "                if idx1 == idx2:\n",
    "                    continue\n",
    "\n",
    "                sm[idx1][idx2] = self._sentence_similarity(sentences[idx1], sentences[idx2], stop_words)\n",
    "\n",
    "        # Get Symmeric matrix\n",
    "        sm = GetMatrix.get_symmetric_matrix(sm)\n",
    "\n",
    "        # Normalize matrix by column\n",
    "        norm = np.sum(sm, axis=0)\n",
    "        sm_norm = np.divide(sm, norm, where=norm != 0)  # this is to ignore the 0 element in norm\n",
    "\n",
    "        return sm_norm\n",
    "\n",
    "    def _run_page_rank(self, similarity_matrix):\n",
    "\n",
    "        pr_vector = np.array([1] * len(similarity_matrix))\n",
    "\n",
    "        # Iteration\n",
    "        previous_pr = 0\n",
    "        for epoch in range(self.steps):\n",
    "            pr_vector = (1 - self.damping) + self.damping * np.matmul(similarity_matrix, pr_vector)\n",
    "            if abs(previous_pr - sum(pr_vector)) < self.min_diff:\n",
    "                break\n",
    "            else:\n",
    "                previous_pr = sum(pr_vector)\n",
    "\n",
    "        return pr_vector\n",
    "\n",
    "    def _get_sentence(self, index):\n",
    "\n",
    "        try:\n",
    "            return self.sentences[index]\n",
    "        except IndexError:\n",
    "            return \"\"\n",
    "\n",
    "    def get_top_sentences(self, number=5):\n",
    "\n",
    "        top_sentences = {}\n",
    "        top_sent = {}\n",
    "\n",
    "        if self.pr_vector is not None:\n",
    "\n",
    "            sorted_pr = np.argsort(self.pr_vector)\n",
    "            sorted_pr = list(sorted_pr)\n",
    "            sorted_pr.reverse()\n",
    "\n",
    "            index = 0\n",
    "            for epoch in range(number):\n",
    "                print (str(sorted_pr[index]) + \" : \" + str(self.pr_vector[sorted_pr[index]]))\n",
    "                sent = self.sentences[sorted_pr[index]]\n",
    "                sent = normalize_whitespace(sent)\n",
    "#                 top_sentences[] = self.sentences[sorted_pr[index]]\n",
    "                top_sentences[sent] = self.pr_vector[sorted_pr[index]]\n",
    "                index += 1\n",
    "\n",
    "        return str(top_sentences)\n",
    "    \n",
    "    def analyze(self, text):\n",
    "        self.text_str = text.lower()\n",
    "        self.sentences = sent_tokenize(self.text_str)\n",
    "\n",
    "        tokenized_sentences = [word_tokenize(sent) for sent in self.sentences]\n",
    "        \n",
    "        stop_words = []\n",
    "        stop_words = stopwords.words(\"indonesian\")\n",
    "        sen_new = [sen for sen in tokenized_sentences if sen not in stop_words]\n",
    "                \n",
    "        similarity_matrix = self._build_similarity_matrix(sen_new, stop_words)\n",
    "\n",
    "\n",
    "        self.pr_vector = self._run_page_rank(similarity_matrix)\n",
    "        \n",
    "        print(\"Nilai Similarity : \", similarity_matrix)\n",
    "        print(\"Hasil Ekstraksi Algoritma: \",self.pr_vector)\n",
    "        print(sen_new)\n",
    "#         print(\"Sentences :\", len(sen_new))\n",
    "#         print(tokenized_sentences)"
   ]
  },
  {
   "cell_type": "code",
   "execution_count": 6,
   "metadata": {},
   "outputs": [],
   "source": [
    "#Stagging\n",
    "def stagging_text(text):\n",
    "    text_str = sent_tokenize(text)\n",
    "    pecahan = [word_tokenize(sent) for sent in text_str]\n",
    "    return pecahan\n",
    "\n",
    "\n",
    "#lowercase\n",
    "def text_lowercase(text): \n",
    "    return text.lower()\n",
    "\n",
    "# Remove numbers \n",
    "def remove_numbers(text): \n",
    "    result = re.sub(r'\\d+', '', text) \n",
    "    return result \n",
    "\n",
    "# remove punctuation \n",
    "# def remove_punctuation(text): \n",
    "#     translator = str.maketrans('', '', string.punctuation) \n",
    "#     return text.translate(translator)\n",
    "\n",
    "# remove whitespace from text \n",
    "def remove_whitespace(text): \n",
    "    return  \" \".join(text.split()) \n",
    "\n",
    "# remove stopwords function \n",
    "def remove_stopwords(text):\n",
    "    \n",
    "    stopword_file = open(\"stopword.txt\", \"r\") #ambil data stopword\n",
    "    \n",
    "    lots_of_stopwords = []\n",
    "    for line in stopword_file.readlines():\n",
    "        lots_of_stopwords.append(str(line.strip()))\n",
    "    \n",
    "    stop_words = set(lots_of_stopwords) \n",
    "    word_tokens = word_tokenize(text) \n",
    "    filtered_text = [word for word in word_tokens if word not in stop_words] \n",
    "    return filtered_text \n",
    "\n",
    "def steeming(text):\n",
    "    factory = StemmerFactory()\n",
    "    stemmer = factory.create_stemmer()\n",
    "    for kata in text:\n",
    "        katadasar = stemmer.stem(kata)\n",
    "    \n",
    "    return katadasar\n",
    "\n",
    "\n",
    "def pecahkalimat(text):\n",
    "    kalimatakhir = re.compile('[.]')\n",
    "    doc = text.split('.')\n",
    "    \n",
    "    return doc"
   ]
  },
  {
   "cell_type": "code",
   "execution_count": 7,
   "metadata": {},
   "outputs": [],
   "source": [
    "import nltk\n",
    "from newspaper import Article\n",
    "\n",
    "def get_title(url):\n",
    "    gtitle = Article(url)\n",
    "    gtitle.download()\n",
    "    gtitle.parse()\n",
    "    gtitle.title\n",
    "    \n",
    "    return gtitle.title\n",
    "    "
   ]
  },
  {
   "cell_type": "code",
   "execution_count": 8,
   "metadata": {},
   "outputs": [],
   "source": [
    "#url = 'https://www.mashara.id/bagaimana-agar-selalu-bisa-istiqomah-dalam-hal-ibadah-agar-selalu-mendapatkan-ridho-allah-ta-ala'\n",
    "url = 'https://www.mashara.id/apakah-ada-kaitan-kejadian-bencana-alam-yang-terus-terjadi-dengan-pilihan-politik-pemimpin-di-suatu-daerah'\n",
    "#url = 'https://www.mashara.id/adakah-cara-untuk-menjauhkan-diri-dari-hal-yg-buruk'\n",
    "sentence = str(scrap_data(url))"
   ]
  },
  {
   "cell_type": "code",
   "execution_count": 9,
   "metadata": {},
   "outputs": [],
   "source": [
    "# Preprocessing\n",
    "\n",
    "lower = text_lowercase(sentence)\n",
    "rnumber = remove_numbers(lower)\n",
    "#punctuation = remove_punctuation(rnumber)\n",
    "white_space = remove_whitespace(rnumber)\n",
    "stopword_list = remove_stopwords(white_space)"
   ]
  },
  {
   "cell_type": "code",
   "execution_count": 10,
   "metadata": {},
   "outputs": [
    {
     "name": "stdout",
     "output_type": "stream",
     "text": [
      "['[', \"'katakanlah\", 'jika', 'gempa', 'di', 'lombok', 'palu', 'dan', 'yang', 'lainnya', 'memang', 'benar-benar', 'terjadi', 'akibat', 'dari', 'pilihan', 'politik', 'pemimpinnya', '.', 'berarti', 'samalah', 'dengan', 'masyarakat', 'arab', 'zaman', 'rasulullah', 'yang', 'mengaitkan', 'fenomena', 'gerhana', 'matahari', 'dengan', 'kematian', 'ibrahim', 'putra', 'rasulullah', 'saw', 'yang', 'meninggal', 'akibat', 'sakit', 'keras.masyarakat', 'arab', 'juga', 'sebagian', 'kaum', 'muslimin', 'menganggap', 'gerhana', 'matahari', 'terjadi', 'akibat', 'kematian', 'ibrahim', '.', 'mendengar', 'hal', 'nabi', 'muhammad', 'saw', 'lalu', 'bersabda', '“', 'matahari', 'dan', 'bulan', 'adalah', 'tanda', 'kebesaran', 'allah', 'yang', 'tidak', 'ada', 'hubungannya', 'dengan', 'kematian', 'atau', 'hidup', 'seseorang', '.', 'kalau', 'kalian', 'melihat', 'hal', 'itu', 'maka', 'berlindunglah', 'kepada', 'allah', 'dengan', 'dzikir', 'dan', 'doa', '.', '(', 'bukhari', 'dan', 'muslim', ')', '\\\\xaallah', 'punya', 'kuasa', 'atas', 'terjadinya', 'fenomena', 'gerhana', 'matahari', 'yang', 'bersamaan', 'dengan', 'kematian', 'ibrahim', '.', 'sama', 'halnya', 'juga', 'allah', 'punya', 'kuasa', 'atas', 'gempa', 'yang', 'mengguncang', 'lombok', 'juga', 'daerah', 'lainnya', 'di', 'indonesia', '.', 'sebagai', 'manusia', 'tak', 'berhak', 'menjatuhkan', 'penghakiman', 'pada', 'apa-apa', 'yang', 'tidak', 'paham', 'atasnya', '.', 'penghakiman', 'penilaian', 'sepenuhnya', 'adalah', 'hak', 'prerogatif', 'allah', '.', 'hal', 'yang', 'harus', 'lakukan', 'untuk', 'menyikapi', 'besarnya', 'dampak', 'bencana', 'alam', 'adalah', 'banyak-banyak', 'berdoa', 'dan', 'mendekatkan', 'diri', 'kepada', 'allah', 'banyak', 'mohon', 'ampun', 'dan', 'saling', 'tolong', 'menolong', '.', \"'tidak\", 'ada', 'kaitannya', 'bencana', 'yang', 'terjadi', 'dengan', 'pilihan', 'pemimpin', 'di', 'daerah', '.', 'seperti', 'bani', 'israil', 'yang', 'dipimpin', 'oleh', 'pemimpin', 'hebat', 'yaitu', 'nabi', 'dan', 'rasul', '.', 'kesusahan', 'dan', 'musibah', 'pun', 'mereka', 'dapatkan', 'di', 'muka', 'bumi', '.', 'sebagaimana', 'dijelaskan', 'oleh', 'ulama', '``', 'sebagaimana', 'keadaan', 'kalian', 'keadaan', 'pemimpin', 'yang', 'diberikan', 'kepada', 'kalian', \"''\", '.', 'adapun', 'bencana', 'yang', 'terjadi', 'adalah', 'akibat', 'dari', 'kerusakan', 'dan', 'dosa', 'yang', 'lakukan', '.', 'meskinya', 'rakyat', 'juga', 'harus', 'intropeksi', 'diri', '.', 'sehingga', 'tidak', 'seharusnya', 'menuduh', 'dan', 'mencari-cari', 'kesalahan', 'pemimpin', '.', '``', 'menurut', 'pemahaman', 'ada', 'kaitannya', '.', 'meskipun', 'kaitan', 'tidak', 'berpengaruh', 'langsung', 'melainkan', 'sebuah', 'proses/', 'rantai', 'panjang', '.', 'bencana', 'alam', 'merupakan', 'kebesaran', 'allah', 'juga', 'ujian', 'dan', 'peringatan', '(', 'bukan', 'adzab', ')', '.', 'jika', 'daerah', 'dipimpin', 'oleh', 'pemimpin', 'yang', 'terpilih', 'yang', 'menetapkan', 'kebijakan', 'yang', 'tidak', 'baik', '(', 'seperti', 'melegalkan', 'miras', 'prostitusi', 'penyelundupan', ')', 'maka', 'hal', '-', 'hal', 'tentunya', 'akan', 'dilaksanakan', 'oleh', 'orang', '-', 'orang', 'dipemerintahan', 'dan', 'disebarkan', 'ke', 'masyarakat', 'daerah', 'tersebut', '.', 'nah', 'jika', 'hal', 'hal', 'negatif', 'dilakukan', 'dan', 'menjadi', 'sarang', 'maksiat', 'maka', 'benarlah', 'allah', 'akan', 'menegur', 'hambannya', 'sebagai', 'peringatan', 'dan', 'kasih', 'sayangnya', 'bagi', 'orang', 'yang', 'lalai', 'agar', 'kembali', 'ke', 'jalannya', 'dan', 'sebagai', 'ujian', 'bagi', 'orang', '-', 'orang', 'yang', 'beriman', 'serta', 'sabar.\\\\xaوَمَا', 'أَصَابَكُمْ', 'مِنْ', 'مُصِيبَةٍ', 'فَبِمَا', 'كَسَبَتْ', 'أَيْدِيكُمْ', 'وَيَعْفُو', 'عَنْ', 'كَثِيرٍ', '“', 'dan', 'musibah', 'apa', 'saja', 'yang', 'menimpa', 'kalian', 'maka', 'disebabkan', 'oleh', 'perbuatan', 'tangan', 'kalian', 'sendiri', 'dan', 'allah', 'mema', '’', 'afkan', 'sebagian', 'besar', '(', 'dari', 'kesalahan-kesalahanmu', ')', '”', '(', 'qs', '.', 'asy-syuura', ')', 'عن', 'أم', 'سلمة', 'زوج', 'النبي', 'صلى', 'الله', 'عليه', 'وسلم', 'قالت', 'سمعت', 'رسول', 'الله', 'صلى', 'الله', 'عليه', 'وسلم', 'يقول', '“', 'إذا', 'ظهرت', 'المعاصي', 'في', 'أمتي،', 'عَمَّهم', 'الله', 'بعذاب', 'من', 'عنده', '”', '.', 'فقلت', 'يا', 'رسول', 'الله،', 'أما', 'فيهم', 'أناس', 'صالحون؟', 'قال', '“', 'بلى', '”', '،', 'قالت', 'فكيف', 'يصنع', 'أولئك؟', 'قال', '“', 'يصيبهم', 'ما', 'أصاب', 'الناس،', 'ثم', 'يصيرون', 'إلى', 'مغفرة', 'من', 'الله', 'ورضوان', '“', '“', 'dari', 'ummu', 'salamah', 'istri', 'nabi', 'shallallahu', '’', 'alaihi', 'wasallam', 'ia', 'berkata', 'aku', 'mendengar', 'rasulullah', 'shallallahu', '’', 'alaihi', 'wasallam', 'bersabda', 'jika', 'maksiat', 'telah', 'menyebar', 'diantara', 'umatku', 'allah', 'akan', 'menurunkan', 'adzab', 'secara', 'umum', '”', '.', 'ummu', 'salamah', 'bertanya', 'wahai', 'rasulullah', 'bukankah', 'di', 'antara', 'mereka', 'ada', 'orang', 'shalih', '?', 'rasulullah', 'menjawab', 'ya', '.', 'ummu', 'salamah', 'berkata', 'mengapa', 'mereka', 'terkena', 'juga', '?', 'rasulullah', 'menjawab', 'mereka', 'terkena', 'musibah', 'yang', 'sama', 'sebagaimana', 'yang', 'lain', 'namun', 'kelak', 'mereka', 'mendapatkan', 'ampunan', 'allah', 'dan', 'ridha-nya', '”', '(', '.', 'ahmad', 'no..', 'al', 'haitsami', 'berkata', '“', 'hadits', 'ada', 'jalur', 'riwayat', 'salah', 'jalurnya', 'diriwayatkan', 'oleh', 'para', 'perawi', 'yang', 'shahih', '”', '\\\\xamajma', 'az', 'zawaid', '\\\\xa/', ')', \"wallahua'lam\", 'bisshawab', \"''\", '``', 'menurut', 'bencana', 'alam', 'itu', 'adalah', 'iradahnya', 'allah', 'swt', 'jadi', 'sifat', 'iradahnya', 'allah', 'tidak', 'tergantung', 'dengan', 'makhluk', '.', 'karena', 'kalau', 'tergantung', 'dengan', 'makhluk', 'berarti', 'itu', 'menyalahi', 'sifat', 'allah', 'yang', 'qiyamu', 'binafsihi', '.', 'jadi', 'bencana', 'alam', 'itu', 'hak', 'mutlak', 'allah', 'mau', 'ada', 'sebab', 'atau', 'tidaknya', '.', \"wallahu'alam\", \"''\", \"'yg\", 'terbaik', 'saat', 'bencana', 'terjadi', 'adalah', 'mohon', 'ampunan', 'dan', 'berdoa', 'kepada', 'alloh', \"'bisa\", 'dilihat', 'dari', 'dua', 'sisi', '.', 'sisi', 'lingkungan', 'dan', 'sisi', 'agama', '.', 'jika', 'diliha', 'dari', 'sisi', 'lingkungan', 'negara', 'indonesia', 'memang', 'negara', 'yang', 'rawan', 'bencana', 'dikarenakan', 'dihimpit', 'oleh', 'tiga', 'lempeng', 'benua', 'dan', 'juga', 'berada', 'pada', 'jalur', 'cincin', 'api', 'pasifik', 'jadi', 'gak', 'heran', 'kalo', 'negara', 'indonesia', 'sering', 'terjadi', 'gempa', '.', 'dan', 'juga', 'akibat', 'dari', 'ulah\\\\xa', 'tangn', 'manusia', 'yang', 'suka', 'nebang', 'pohon', 'buang', 'sampah', 'sembarangan', 'mnybbkan', 'bencna', 'juga', '.', 'jika', 'dikaitin', 'sma', 'regulasi', 'pasti', 'ada', 'dimana', 'untuk', 'negra', 'indonesia', 'dengan', 'kondisi', 'rawan', 'bncana', 'maka', 'perlu', 'adnya', 'regulasi', 'untuk', 'mitigasi', 'bncna', 'dalam', 'rangka', 'untuk', 'mngrangi', 'resiko', 'dari', 'bncana.\\\\xajika', 'dilihat', 'dari', 'segi', 'agama', 'pada', 'dasarnya', 'memang', 'allah', 'kasih', 'bncna', 'ya', 'karena', 'sebagai', 'peringatn', 'bgi', 'hmbanya', '.', \"'bisa\", 'dilihat', 'dari', 'dua', 'sisi', '.', 'sisi', 'lingkungan', 'sisi', 'agama', '.', 'jika', 'dilihat', 'dari', 'sisi', 'lingkungan', 'negara', 'indonesia', 'merupakan', 'negara', 'yang', 'memang', 'rawan', 'bencana', 'dikarenakan', 'berada', 'pada', 'tiga', 'lempeng', 'besar\\\\xa', \"'bencana\", 'alam', 'tidak', 'ada', 'kaitannya', 'dengan', 'makhluk', 'allah', 'allah', 'yang', 'merencanakan', 'semua', 'lejadia', 'di', 'alam', 'semesta', 'jadi', 'dalam', 'politik', 'pemimpin', 'tidak', 'ada', 'sedikitpun', 'kaitannya', 'dengan', 'bencana', 'alam..', \"'mana\", '.', ']']\n"
     ]
    }
   ],
   "source": [
    "print(stopword_list)"
   ]
  },
  {
   "cell_type": "code",
   "execution_count": 11,
   "metadata": {},
   "outputs": [
    {
     "name": "stdout",
     "output_type": "stream",
     "text": [
      "[ 'katakanlah jika gempa di lombok palu dan yang lainnya memang benar-benar terjadi akibat dari pilihan politik pemimpinnya . berarti samalah dengan masyarakat arab zaman rasulullah yang mengaitkan fenomena gerhana matahari dengan kematian ibrahim putra rasulullah saw yang meninggal akibat sakit keras.masyarakat arab juga sebagian kaum muslimin menganggap gerhana matahari terjadi akibat kematian ibrahim . mendengar hal nabi muhammad saw lalu bersabda “ matahari dan bulan adalah tanda kebesaran allah yang tidak ada hubungannya dengan kematian atau hidup seseorang . kalau kalian melihat hal itu maka berlindunglah kepada allah dengan dzikir dan doa . ( bukhari dan muslim ) \\xaallah punya kuasa atas terjadinya fenomena gerhana matahari yang bersamaan dengan kematian ibrahim . sama halnya juga allah punya kuasa atas gempa yang mengguncang lombok juga daerah lainnya di indonesia . sebagai manusia tak berhak menjatuhkan penghakiman pada apa-apa yang tidak paham atasnya . penghakiman penilaian sepenuhnya adalah hak prerogatif allah . hal yang harus lakukan untuk menyikapi besarnya dampak bencana alam adalah banyak-banyak berdoa dan mendekatkan diri kepada allah banyak mohon ampun dan saling tolong menolong . 'tidak ada kaitannya bencana yang terjadi dengan pilihan pemimpin di daerah . seperti bani israil yang dipimpin oleh pemimpin hebat yaitu nabi dan rasul . kesusahan dan musibah pun mereka dapatkan di muka bumi . sebagaimana dijelaskan oleh ulama `` sebagaimana keadaan kalian keadaan pemimpin yang diberikan kepada kalian '' . adapun bencana yang terjadi adalah akibat dari kerusakan dan dosa yang lakukan . meskinya rakyat juga harus intropeksi diri . sehingga tidak seharusnya menuduh dan mencari-cari kesalahan pemimpin . `` menurut pemahaman ada kaitannya . meskipun kaitan tidak berpengaruh langsung melainkan sebuah proses/ rantai panjang . bencana alam merupakan kebesaran allah juga ujian dan peringatan ( bukan adzab ) . jika daerah dipimpin oleh pemimpin yang terpilih yang menetapkan kebijakan yang tidak baik ( seperti melegalkan miras prostitusi penyelundupan ) maka hal - hal tentunya akan dilaksanakan oleh orang - orang dipemerintahan dan disebarkan ke masyarakat daerah tersebut . nah jika hal hal negatif dilakukan dan menjadi sarang maksiat maka benarlah allah akan menegur hambannya sebagai peringatan dan kasih sayangnya bagi orang yang lalai agar kembali ke jalannya dan sebagai ujian bagi orang - orang yang beriman serta sabar.\\xaوَمَا أَصَابَكُمْ مِنْ مُصِيبَةٍ فَبِمَا كَسَبَتْ أَيْدِيكُمْ وَيَعْفُو عَنْ كَثِيرٍ “ dan musibah apa saja yang menimpa kalian maka disebabkan oleh perbuatan tangan kalian sendiri dan allah mema ’ afkan sebagian besar ( dari kesalahan-kesalahanmu ) ” ( qs . asy-syuura ) عن أم سلمة زوج النبي صلى الله عليه وسلم قالت سمعت رسول الله صلى الله عليه وسلم يقول “ إذا ظهرت المعاصي في أمتي، عَمَّهم الله بعذاب من عنده ” . فقلت يا رسول الله، أما فيهم أناس صالحون؟ قال “ بلى ” ، قالت فكيف يصنع أولئك؟ قال “ يصيبهم ما أصاب الناس، ثم يصيرون إلى مغفرة من الله ورضوان “ “ dari ummu salamah istri nabi shallallahu ’ alaihi wasallam ia berkata aku mendengar rasulullah shallallahu ’ alaihi wasallam bersabda jika maksiat telah menyebar diantara umatku allah akan menurunkan adzab secara umum ” . ummu salamah bertanya wahai rasulullah bukankah di antara mereka ada orang shalih ? rasulullah menjawab ya . ummu salamah berkata mengapa mereka terkena juga ? rasulullah menjawab mereka terkena musibah yang sama sebagaimana yang lain namun kelak mereka mendapatkan ampunan allah dan ridha-nya ” ( . ahmad no.. al haitsami berkata “ hadits ada jalur riwayat salah jalurnya diriwayatkan oleh para perawi yang shahih ” \\xamajma az zawaid \\xa/ ) wallahua'lam bisshawab '' `` menurut bencana alam itu adalah iradahnya allah swt jadi sifat iradahnya allah tidak tergantung dengan makhluk . karena kalau tergantung dengan makhluk berarti itu menyalahi sifat allah yang qiyamu binafsihi . jadi bencana alam itu hak mutlak allah mau ada sebab atau tidaknya . wallahu'alam '' 'yg terbaik saat bencana terjadi adalah mohon ampunan dan berdoa kepada alloh 'bisa dilihat dari dua sisi . sisi lingkungan dan sisi agama . jika diliha dari sisi lingkungan negara indonesia memang negara yang rawan bencana dikarenakan dihimpit oleh tiga lempeng benua dan juga berada pada jalur cincin api pasifik jadi gak heran kalo negara indonesia sering terjadi gempa . dan juga akibat dari ulah\\xa tangn manusia yang suka nebang pohon buang sampah sembarangan mnybbkan bencna juga . jika dikaitin sma regulasi pasti ada dimana untuk negra indonesia dengan kondisi rawan bncana maka perlu adnya regulasi untuk mitigasi bncna dalam rangka untuk mngrangi resiko dari bncana.\\xajika dilihat dari segi agama pada dasarnya memang allah kasih bncna ya karena sebagai peringatn bgi hmbanya . 'bisa dilihat dari dua sisi . sisi lingkungan sisi agama . jika dilihat dari sisi lingkungan negara indonesia merupakan negara yang memang rawan bencana dikarenakan berada pada tiga lempeng besar\\xa 'bencana alam tidak ada kaitannya dengan makhluk allah allah yang merencanakan semua lejadia di alam semesta jadi dalam politik pemimpin tidak ada sedikitpun kaitannya dengan bencana alam.. 'mana . ]\n"
     ]
    }
   ],
   "source": [
    "new_sentence = ' '.join(stopword_list)\n",
    "print (new_sentence)"
   ]
  },
  {
   "cell_type": "code",
   "execution_count": 13,
   "metadata": {},
   "outputs": [],
   "source": [
    "pecah_kalimat = stagging_text(new_sentence)\n"
   ]
  },
  {
   "cell_type": "code",
   "execution_count": 14,
   "metadata": {},
   "outputs": [
    {
     "name": "stdout",
     "output_type": "stream",
     "text": [
      "Nilai Similarity :  [[0.         0.04451431 0.01622479 ... 0.02232309 0.01829217 0.01646596]\n",
      " [0.03370991 0.         0.0498198  ... 0.01142421 0.00936132 0.00421336]\n",
      " [0.01946242 0.07891544 0.         ... 0.01978731 0.01621427 0.02189326]\n",
      " ...\n",
      " [0.04204364 0.02841281 0.03106811 ... 0.         0.10508051 0.03152991]\n",
      " [0.02752402 0.01860055 0.02033885 ... 0.08395044 0.         0.04128234]\n",
      " [0.02362649 0.00798331 0.02618815 ... 0.02402088 0.03936677 0.        ]]\n",
      "Hasil Ekstraksi Algoritma:  [0.83438358 0.72353672 0.99549612 1.26331074 0.88679322 1.13335638\n",
      " 0.84690409 1.14320466 0.99532671 1.203075   0.93643205 0.94212058\n",
      " 1.08056176 1.13676601 1.07070875 1.08426997 1.23512935 0.90714207\n",
      " 1.278174   0.80983316 0.8858505  0.51909782 0.74100277 0.64967723\n",
      " 1.42390944 0.5163842  1.29543023 0.95389984 1.07647749 1.32524916\n",
      " 1.04961605 1.16177745 0.77213955 0.73519202 0.68142115 1.42635768\n",
      " 1.16177745 1.11821505]\n",
      "[['[', \"'katakanlah\", 'jika', 'gempa', 'di', 'lombok', 'palu', 'dan', 'yang', 'lainnya', 'memang', 'benar-benar', 'terjadi', 'akibat', 'dari', 'pilihan', 'politik', 'pemimpinnya', '.'], ['berarti', 'samalah', 'dengan', 'masyarakat', 'arab', 'zaman', 'rasulullah', 'yang', 'mengaitkan', 'fenomena', 'gerhana', 'matahari', 'dengan', 'kematian', 'ibrahim', 'putra', 'rasulullah', 'saw', 'yang', 'meninggal', 'akibat', 'sakit', 'keras.masyarakat', 'arab', 'juga', 'sebagian', 'kaum', 'muslimin', 'menganggap', 'gerhana', 'matahari', 'terjadi', 'akibat', 'kematian', 'ibrahim', '.'], ['mendengar', 'hal', 'nabi', 'muhammad', 'saw', 'lalu', 'bersabda', '“', 'matahari', 'dan', 'bulan', 'adalah', 'tanda', 'kebesaran', 'allah', 'yang', 'tidak', 'ada', 'hubungannya', 'dengan', 'kematian', 'atau', 'hidup', 'seseorang', '.'], ['kalau', 'kalian', 'melihat', 'hal', 'itu', 'maka', 'berlindunglah', 'kepada', 'allah', 'dengan', 'dzikir', 'dan', 'doa', '.'], ['(', 'bukhari', 'dan', 'muslim', ')', '\\\\xaallah', 'punya', 'kuasa', 'atas', 'terjadinya', 'fenomena', 'gerhana', 'matahari', 'yang', 'bersamaan', 'dengan', 'kematian', 'ibrahim', '.'], ['sama', 'halnya', 'juga', 'allah', 'punya', 'kuasa', 'atas', 'gempa', 'yang', 'mengguncang', 'lombok', 'juga', 'daerah', 'lainnya', 'di', 'indonesia', '.'], ['sebagai', 'manusia', 'tak', 'berhak', 'menjatuhkan', 'penghakiman', 'pada', 'apa-apa', 'yang', 'tidak', 'paham', 'atasnya', '.'], ['penghakiman', 'penilaian', 'sepenuhnya', 'adalah', 'hak', 'prerogatif', 'allah', '.'], ['hal', 'yang', 'harus', 'lakukan', 'untuk', 'menyikapi', 'besarnya', 'dampak', 'bencana', 'alam', 'adalah', 'banyak-banyak', 'berdoa', 'dan', 'mendekatkan', 'diri', 'kepada', 'allah', 'banyak', 'mohon', 'ampun', 'dan', 'saling', 'tolong', 'menolong', '.'], [\"'tidak\", 'ada', 'kaitannya', 'bencana', 'yang', 'terjadi', 'dengan', 'pilihan', 'pemimpin', 'di', 'daerah', '.'], ['seperti', 'bani', 'israil', 'yang', 'dipimpin', 'oleh', 'pemimpin', 'hebat', 'yaitu', 'nabi', 'dan', 'rasul', '.'], ['kesusahan', 'dan', 'musibah', 'pun', 'mereka', 'dapatkan', 'di', 'muka', 'bumi', '.'], ['sebagaimana', 'dijelaskan', 'oleh', 'ulama', '``', 'sebagaimana', 'keadaan', 'kalian', 'keadaan', 'pemimpin', 'yang', 'diberikan', 'kepada', 'kalian', '``', '.'], ['adapun', 'bencana', 'yang', 'terjadi', 'adalah', 'akibat', 'dari', 'kerusakan', 'dan', 'dosa', 'yang', 'lakukan', '.'], ['meskinya', 'rakyat', 'juga', 'harus', 'intropeksi', 'diri', '.'], ['sehingga', 'tidak', 'seharusnya', 'menuduh', 'dan', 'mencari-cari', 'kesalahan', 'pemimpin', '.'], ['``', 'menurut', 'pemahaman', 'ada', 'kaitannya', '.'], ['meskipun', 'kaitan', 'tidak', 'berpengaruh', 'langsung', 'melainkan', 'sebuah', 'proses/', 'rantai', 'panjang', '.'], ['bencana', 'alam', 'merupakan', 'kebesaran', 'allah', 'juga', 'ujian', 'dan', 'peringatan', '(', 'bukan', 'adzab', ')', '.'], ['jika', 'daerah', 'dipimpin', 'oleh', 'pemimpin', 'yang', 'terpilih', 'yang', 'menetapkan', 'kebijakan', 'yang', 'tidak', 'baik', '(', 'seperti', 'melegalkan', 'miras', 'prostitusi', 'penyelundupan', ')', 'maka', 'hal', '-', 'hal', 'tentunya', 'akan', 'dilaksanakan', 'oleh', 'orang', '-', 'orang', 'dipemerintahan', 'dan', 'disebarkan', 'ke', 'masyarakat', 'daerah', 'tersebut', '.'], ['nah', 'jika', 'hal', 'hal', 'negatif', 'dilakukan', 'dan', 'menjadi', 'sarang', 'maksiat', 'maka', 'benarlah', 'allah', 'akan', 'menegur', 'hambannya', 'sebagai', 'peringatan', 'dan', 'kasih', 'sayangnya', 'bagi', 'orang', 'yang', 'lalai', 'agar', 'kembali', 'ke', 'jalannya', 'dan', 'sebagai', 'ujian', 'bagi', 'orang', '-', 'orang', 'yang', 'beriman', 'serta', 'sabar.\\\\xaوَمَا', 'أَصَابَكُمْ', 'مِنْ', 'مُصِيبَةٍ', 'فَبِمَا', 'كَسَبَتْ', 'أَيْدِيكُمْ', 'وَيَعْفُو', 'عَنْ', 'كَثِيرٍ', '“', 'dan', 'musibah', 'apa', 'saja', 'yang', 'menimpa', 'kalian', 'maka', 'disebabkan', 'oleh', 'perbuatan', 'tangan', 'kalian', 'sendiri', 'dan', 'allah', 'mema', '’', 'afkan', 'sebagian', 'besar', '(', 'dari', 'kesalahan-kesalahanmu', ')', '”', '(', 'qs', '.'], ['asy-syuura', ')', 'عن', 'أم', 'سلمة', 'زوج', 'النبي', 'صلى', 'الله', 'عليه', 'وسلم', 'قالت', 'سمعت', 'رسول', 'الله', 'صلى', 'الله', 'عليه', 'وسلم', 'يقول', '“', 'إذا', 'ظهرت', 'المعاصي', 'في', 'أمتي،', 'عَمَّهم', 'الله', 'بعذاب', 'من', 'عنده', '”', '.'], ['فقلت', 'يا', 'رسول', 'الله،', 'أما', 'فيهم', 'أناس', 'صالحون؟', 'قال', '“', 'بلى', '”', '،', 'قالت', 'فكيف', 'يصنع', 'أولئك؟', 'قال', '“', 'يصيبهم', 'ما', 'أصاب', 'الناس،', 'ثم', 'يصيرون', 'إلى', 'مغفرة', 'من', 'الله', 'ورضوان', '“', '“', 'dari', 'ummu', 'salamah', 'istri', 'nabi', 'shallallahu', '’', 'alaihi', 'wasallam', 'ia', 'berkata', 'aku', 'mendengar', 'rasulullah', 'shallallahu', '’', 'alaihi', 'wasallam', 'bersabda', 'jika', 'maksiat', 'telah', 'menyebar', 'diantara', 'umatku', 'allah', 'akan', 'menurunkan', 'adzab', 'secara', 'umum', '”', '.'], ['ummu', 'salamah', 'bertanya', 'wahai', 'rasulullah', 'bukankah', 'di', 'antara', 'mereka', 'ada', 'orang', 'shalih', '?'], ['rasulullah', 'menjawab', 'ya', '.'], ['ummu', 'salamah', 'berkata', 'mengapa', 'mereka', 'terkena', 'juga', '?'], ['rasulullah', 'menjawab', 'mereka', 'terkena', 'musibah', 'yang', 'sama', 'sebagaimana', 'yang', 'lain', 'namun', 'kelak', 'mereka', 'mendapatkan', 'ampunan', 'allah', 'dan', 'ridha-nya', '”', '(', '.'], ['ahmad', 'no..', 'al', 'haitsami', 'berkata', '“', 'hadits', 'ada', 'jalur', 'riwayat', 'salah', 'jalurnya', 'diriwayatkan', 'oleh', 'para', 'perawi', 'yang', 'shahih', '”', '\\\\xamajma', 'az', 'zawaid', '\\\\xa/', ')', \"wallahua'lam\", 'bisshawab', '``', '``', 'menurut', 'bencana', 'alam', 'itu', 'adalah', 'iradahnya', 'allah', 'swt', 'jadi', 'sifat', 'iradahnya', 'allah', 'tidak', 'tergantung', 'dengan', 'makhluk', '.'], ['karena', 'kalau', 'tergantung', 'dengan', 'makhluk', 'berarti', 'itu', 'menyalahi', 'sifat', 'allah', 'yang', 'qiyamu', 'binafsihi', '.'], ['jadi', 'bencana', 'alam', 'itu', 'hak', 'mutlak', 'allah', 'mau', 'ada', 'sebab', 'atau', 'tidaknya', '.'], [\"wallahu'alam\", '``', \"'yg\", 'terbaik', 'saat', 'bencana', 'terjadi', 'adalah', 'mohon', 'ampunan', 'dan', 'berdoa', 'kepada', 'alloh', \"'bisa\", 'dilihat', 'dari', 'dua', 'sisi', '.'], ['sisi', 'lingkungan', 'dan', 'sisi', 'agama', '.'], ['jika', 'diliha', 'dari', 'sisi', 'lingkungan', 'negara', 'indonesia', 'memang', 'negara', 'yang', 'rawan', 'bencana', 'dikarenakan', 'dihimpit', 'oleh', 'tiga', 'lempeng', 'benua', 'dan', 'juga', 'berada', 'pada', 'jalur', 'cincin', 'api', 'pasifik', 'jadi', 'gak', 'heran', 'kalo', 'negara', 'indonesia', 'sering', 'terjadi', 'gempa', '.'], ['dan', 'juga', 'akibat', 'dari', 'ulah\\\\xa', 'tangn', 'manusia', 'yang', 'suka', 'nebang', 'pohon', 'buang', 'sampah', 'sembarangan', 'mnybbkan', 'bencna', 'juga', '.'], ['jika', 'dikaitin', 'sma', 'regulasi', 'pasti', 'ada', 'dimana', 'untuk', 'negra', 'indonesia', 'dengan', 'kondisi', 'rawan', 'bncana', 'maka', 'perlu', 'adnya', 'regulasi', 'untuk', 'mitigasi', 'bncna', 'dalam', 'rangka', 'untuk', 'mngrangi', 'resiko', 'dari', 'bncana.\\\\xajika', 'dilihat', 'dari', 'segi', 'agama', 'pada', 'dasarnya', 'memang', 'allah', 'kasih', 'bncna', 'ya', 'karena', 'sebagai', 'peringatn', 'bgi', 'hmbanya', '.'], [\"'bisa\", 'dilihat', 'dari', 'dua', 'sisi', '.'], ['sisi', 'lingkungan', 'sisi', 'agama', '.'], ['jika', 'dilihat', 'dari', 'sisi', 'lingkungan', 'negara', 'indonesia', 'merupakan', 'negara', 'yang', 'memang', 'rawan', 'bencana', 'dikarenakan', 'berada', 'pada', 'tiga', 'lempeng', 'besar\\\\xa', \"'bencana\", 'alam', 'tidak', 'ada', 'kaitannya', 'dengan', 'makhluk', 'allah', 'allah', 'yang', 'merencanakan', 'semua', 'lejadia', 'di', 'alam', 'semesta', 'jadi', 'dalam', 'politik', 'pemimpin', 'tidak', 'ada', 'sedikitpun', 'kaitannya', 'dengan', 'bencana', 'alam..', \"'mana\", '.', ']']]\n",
      "35 : 1.4263576757534167\n",
      "24 : 1.4239094430787484\n",
      "29 : 1.3252491600391694\n",
      "26 : 1.2954302326721745\n",
      "18 : 1.2781739970000818\n"
     ]
    }
   ],
   "source": [
    "textrank = TextRank4Sentences() \n",
    "text = textrank.analyze(str(new_sentence))\n",
    "text = textrank.get_top_sentences(5)"
   ]
  },
  {
   "cell_type": "code",
   "execution_count": 137,
   "metadata": {},
   "outputs": [],
   "source": [
    "similarity_matrix = textrank._build_similarity_matrix(pecah_kalimat)\n",
    "vector = textrank._run_page_rank(similarity_matrix)"
   ]
  },
  {
   "cell_type": "code",
   "execution_count": 138,
   "metadata": {},
   "outputs": [
    {
     "name": "stdout",
     "output_type": "stream",
     "text": [
      "Similarity Matrix:  [[0.         0.04451431 0.01622479 ... 0.02232309 0.01829217 0.01646596]\n",
      " [0.03370991 0.         0.0498198  ... 0.01142421 0.00936132 0.00421336]\n",
      " [0.01946242 0.07891544 0.         ... 0.01978731 0.01621427 0.02189326]\n",
      " ...\n",
      " [0.04204364 0.02841281 0.03106811 ... 0.         0.10508051 0.03152991]\n",
      " [0.02752402 0.01860055 0.02033885 ... 0.08395044 0.         0.04128234]\n",
      " [0.02362649 0.00798331 0.02618815 ... 0.02402088 0.03936677 0.        ]]\n",
      "Textrank:  [0.83438358 0.72353672 0.99549612 1.26331074 0.88679322 1.13335638\n",
      " 0.84690409 1.14320466 0.99532671 1.203075   0.93643205 0.94212058\n",
      " 1.08056176 1.13676601 1.07070875 1.08426997 1.23512935 0.90714207\n",
      " 1.278174   0.80983316 0.8858505  0.51909782 0.74100277 0.64967723\n",
      " 1.42390944 0.5163842  1.29543023 0.95389984 1.07647749 1.32524916\n",
      " 1.04961605 1.16177745 0.77213955 0.73519202 0.68142115 1.42635768\n",
      " 1.16177745 1.11821505]\n"
     ]
    }
   ],
   "source": [
    "print(\"Similarity Matrix: \", similarity_matrix)\n",
    "print(\"Textrank: \", vector)"
   ]
  },
  {
   "cell_type": "code",
   "execution_count": 15,
   "metadata": {},
   "outputs": [
    {
     "name": "stdout",
     "output_type": "stream",
     "text": [
      "{\"'bisa dilihat dari dua sisi .\": 1.4263576757534167, 'rasulullah menjawab ya .': 1.4239094430787484, 'jadi bencana alam itu hak mutlak allah mau ada sebab atau tidaknya .': 1.3252491600391694, 'rasulullah menjawab mereka terkena musibah yang sama sebagaimana yang lain namun kelak mereka mendapatkan ampunan allah dan ridha-nya ” ( .': 1.2954302326721745, 'bencana alam merupakan kebesaran allah juga ujian dan peringatan ( bukan adzab ) .': 1.2781739970000818}\n"
     ]
    }
   ],
   "source": [
    "print(text)"
   ]
  },
  {
   "cell_type": "code",
   "execution_count": null,
   "metadata": {},
   "outputs": [],
   "source": []
  }
 ],
 "metadata": {
  "kernelspec": {
   "display_name": "Python 3",
   "language": "python",
   "name": "python3"
  },
  "language_info": {
   "codemirror_mode": {
    "name": "ipython",
    "version": 3
   },
   "file_extension": ".py",
   "mimetype": "text/x-python",
   "name": "python",
   "nbconvert_exporter": "python",
   "pygments_lexer": "ipython3",
   "version": "3.7.4"
  }
 },
 "nbformat": 4,
 "nbformat_minor": 2
}
